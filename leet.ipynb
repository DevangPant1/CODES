{
  "nbformat": 4,
  "nbformat_minor": 0,
  "metadata": {
    "colab": {
      "provenance": []
    },
    "kernelspec": {
      "name": "python3",
      "display_name": "Python 3"
    },
    "language_info": {
      "name": "python"
    }
  },
  "cells": [
    {
      "cell_type": "code",
      "execution_count": null,
      "metadata": {
        "colab": {
          "base_uri": "https://localhost:8080/"
        },
        "id": "9l_L1ApjzoW_",
        "outputId": "bc6ae1ab-b922-4c26-98b5-78e152848a14"
      },
      "outputs": [
        {
          "output_type": "execute_result",
          "data": {
            "text/plain": [
              "3.5"
            ]
          },
          "metadata": {},
          "execution_count": 11
        }
      ],
      "source": [
        "def median(nums1,nums2):\n",
        "    nums3=nums1\n",
        "    for i in nums2:\n",
        "        nums3.append(i)\n",
        "    for i in range(0,len(nums3),1):\n",
        "      for j in range(0,len(nums3)-1,1):\n",
        "        if(nums3[j]>nums3[j+1]):\n",
        "          nums3[j],nums3[j+1]=nums3[j+1],nums3[j]\n",
        "    if(len(nums3)%2==0):\n",
        "      val=int(len(nums3)/2)\n",
        "      median=(nums3[val-1]+nums3[val])/2\n",
        "      return median\n",
        "    else:\n",
        "      val=int((len(nums3)+1)/2)\n",
        "      median=nums3[val-1]\n",
        "      return median\n",
        "\n",
        "median([1,4,5],[2,3,6])"
      ]
    }
  ]
}