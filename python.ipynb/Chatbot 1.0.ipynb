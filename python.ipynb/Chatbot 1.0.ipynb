{
 "cells": [
  {
   "cell_type": "code",
   "execution_count": 2,
   "metadata": {
    "scrolled": true
   },
   "outputs": [],
   "source": [
    "from tkinter import *\n",
    "root=Tk()\n",
    "txt=Text(root)\n",
    "def f2() :\n",
    "    c=e.get()\n",
    "    w=\"Me-\"+e.get()+\"\\n\"\n",
    "    txt.insert(END,w)\n",
    "    if c==\"hi\":\n",
    "        txt.insert(END,\"Hello\")\n",
    "        \n",
    "    e.delete(0,END)\n",
    "    \n",
    "txt.grid(row=0,column=0,columnspan=2)\n",
    "e=Entry(root,width=100)\n",
    "e.grid(row=1,column=0)\n",
    "bttn=Button(root,text=\"Send\",command=f2)\n",
    "bttn.grid(row=1,column=1)\n",
    "root.title(\"CHATBOT 1.0\")\n",
    "\n",
    "root.mainloop()"
   ]
  },
  {
   "cell_type": "code",
   "execution_count": null,
   "metadata": {},
   "outputs": [],
   "source": []
  },
  {
   "cell_type": "code",
   "execution_count": null,
   "metadata": {},
   "outputs": [],
   "source": []
  }
 ],
 "metadata": {
  "kernelspec": {
   "display_name": "Python 3",
   "language": "python",
   "name": "python3"
  },
  "language_info": {
   "codemirror_mode": {
    "name": "ipython",
    "version": 3
   },
   "file_extension": ".py",
   "mimetype": "text/x-python",
   "name": "python",
   "nbconvert_exporter": "python",
   "pygments_lexer": "ipython3",
   "version": "3.8.5"
  }
 },
 "nbformat": 4,
 "nbformat_minor": 4
}
