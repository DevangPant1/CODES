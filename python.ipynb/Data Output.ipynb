{
 "cells": [
  {
   "cell_type": "code",
   "execution_count": null,
   "metadata": {
    "colab": {
     "base_uri": "https://localhost:8080/"
    },
    "id": "56PLCx5yjZuo",
    "outputId": "eec20165-f130-461b-e615-0972b3dba86c"
   },
   "outputs": [
    {
     "name": "stdout",
     "output_type": "stream",
     "text": [
      "Devang \n"
     ]
    }
   ],
   "source": [
    "print(\"Devang \")"
   ]
  },
  {
   "cell_type": "code",
   "execution_count": null,
   "metadata": {
    "colab": {
     "base_uri": "https://localhost:8080/"
    },
    "id": "k5QqYypnld4q",
    "outputId": "4c4e6e00-b946-4353-81b7-58c38710da78"
   },
   "outputs": [
    {
     "name": "stdout",
     "output_type": "stream",
     "text": [
      "Clark's Shoes are good \n"
     ]
    }
   ],
   "source": [
    "print(\"Clark's Shoes are good \")#To show statement woth apostrophe"
   ]
  },
  {
   "cell_type": "code",
   "execution_count": null,
   "metadata": {
    "colab": {
     "base_uri": "https://localhost:8080/"
    },
    "id": "NNxA4o25l_Sm",
    "outputId": "40011757-e128-4ae5-8875-0ded645ea5d4"
   },
   "outputs": [
    {
     "name": "stdout",
     "output_type": "stream",
     "text": [
      "Clark's shoes are good\n"
     ]
    }
   ],
   "source": [
    "print('Clark\\'s shoes are good')#To show statement with backslash"
   ]
  },
  {
   "cell_type": "code",
   "execution_count": null,
   "metadata": {
    "colab": {
     "base_uri": "https://localhost:8080/"
    },
    "id": "gSceoC2Zmhgm",
    "outputId": "3ae53db1-346c-4dda-b5a4-7301019289e8"
   },
   "outputs": [
    {
     "name": "stdout",
     "output_type": "stream",
     "text": [
      "'My name is Devang Pant'\n"
     ]
    }
   ],
   "source": [
    "print('\\'My name is Devang Pant\\'')"
   ]
  },
  {
   "cell_type": "code",
   "execution_count": null,
   "metadata": {
    "colab": {
     "base_uri": "https://localhost:8080/"
    },
    "id": "DQpfL3mvm9y9",
    "outputId": "f8d9e0d2-14bf-4059-db62-be658b5bed63"
   },
   "outputs": [
    {
     "name": "stdout",
     "output_type": "stream",
     "text": [
      "56789\n"
     ]
    }
   ],
   "source": [
    "print(56789)"
   ]
  },
  {
   "cell_type": "code",
   "execution_count": null,
   "metadata": {
    "colab": {
     "base_uri": "https://localhost:8080/"
    },
    "id": "yPBj-1jjnjj1",
    "outputId": "dfa7d82f-1060-47d3-8ad3-706251b55925"
   },
   "outputs": [
    {
     "name": "stdout",
     "output_type": "stream",
     "text": [
      "0984\n"
     ]
    }
   ],
   "source": [
    "print(\"0984\")#To show no.starting with 0\n"
   ]
  },
  {
   "cell_type": "code",
   "execution_count": null,
   "metadata": {
    "colab": {
     "base_uri": "https://localhost:8080/"
    },
    "id": "9y-Q_QjCoKWW",
    "outputId": "86d3ced5-39a9-4ea3-d9f0-078130b5d396"
   },
   "outputs": [
    {
     "name": "stdout",
     "output_type": "stream",
     "text": [
      "hello world 3456\n"
     ]
    }
   ],
   "source": [
    "print(\"hello\",\"world\",3456)#to show multiple statements on same line"
   ]
  },
  {
   "cell_type": "code",
   "execution_count": null,
   "metadata": {
    "id": "jLQg7LPio5rS"
   },
   "outputs": [],
   "source": [
    "print(\"red\",\"blue\",\"green\",\"yellow\",sep=\"=\")#to add custom seperator"
   ]
  },
  {
   "cell_type": "code",
   "execution_count": null,
   "metadata": {
    "colab": {
     "base_uri": "https://localhost:8080/"
    },
    "id": "3CAJTGFIsHS5",
    "outputId": "e35737f4-9ee8-4ae0-c2ba-86776b52648f"
   },
   "outputs": [
    {
     "name": "stdout",
     "output_type": "stream",
     "text": [
      "Red\tBlue\tGreen\tYellow\n",
      "Red\bBlue\bGreen\bYellow\n"
     ]
    }
   ],
   "source": [
    "print(\"Red\",\"Blue\",\"Green\",\"Yellow\",sep=\"\\t\")#for giving tab space\n",
    "print(\"Red\",\"Blue\",\"Green\",\"Yellow\",sep=\"\\b\")#for giving back space"
   ]
  },
  {
   "cell_type": "code",
   "execution_count": null,
   "metadata": {
    "colab": {
     "base_uri": "https://localhost:8080/"
    },
    "id": "DTYuKFgspbuU",
    "outputId": "4952fe9a-ecad-4725-87db-8b8b863e859e"
   },
   "outputs": [
    {
     "name": "stdout",
     "output_type": "stream",
     "text": [
      "First Name-Devang,Last Name-Pant,Telephone-9818608073,Address-Sohna Road,Gurugram\n"
     ]
    }
   ],
   "source": [
    "print(\"First Name-Devang\",\"Last Name-Pant\",\"Telephone-9818608073\",\"Address-Sohna Road,Gurugram\",sep=\",\")"
   ]
  },
  {
   "cell_type": "code",
   "execution_count": null,
   "metadata": {
    "colab": {
     "base_uri": "https://localhost:8080/"
    },
    "id": "ICs9iByjq8oV",
    "outputId": "7390be55-96d7-40c4-e147-6f9b5369a3de"
   },
   "outputs": [
    {
     "name": "stdout",
     "output_type": "stream",
     "text": [
      "Red\n",
      "Blue\n",
      "Green\n",
      "Yellow\n"
     ]
    }
   ],
   "source": [
    "print(\"Red\",\"Blue\",\"Green\",\"Yellow\",sep=\"\\n\")#to write data on different lines with 1 print statement"
   ]
  },
  {
   "cell_type": "code",
   "execution_count": null,
   "metadata": {
    "colab": {
     "base_uri": "https://localhost:8080/"
    },
    "id": "EjVAIS4ytRzt",
    "outputId": "947825f4-1a68-4ff6-bef2-8be32522ed54"
   },
   "outputs": [
    {
     "name": "stdout",
     "output_type": "stream",
     "text": [
      "Red==Blue\n"
     ]
    }
   ],
   "source": [
    "print(\"Red\",end=\"==\")#to alter end of print statement\n",
    "print(\"Blue\")"
   ]
  },
  {
   "cell_type": "code",
   "execution_count": null,
   "metadata": {
    "colab": {
     "base_uri": "https://localhost:8080/"
    },
    "id": "oXABNmtSuGJ5",
    "outputId": "1b53cabb-f263-45f7-88c9-2883d8206d39"
   },
   "outputs": [
    {
     "name": "stdout",
     "output_type": "stream",
     "text": [
      "Devang\n",
      "Devang\n",
      "Devang\n",
      "Devang\n",
      "Devang\n",
      "Devang\n",
      "Devang\n",
      "Devang\n",
      "Devang\n",
      "Devang\n",
      "\n"
     ]
    }
   ],
   "source": [
    "print(\"Devang\\n\"*10)#to write text repeatedly"
   ]
  },
  {
   "cell_type": "code",
   "execution_count": null,
   "metadata": {
    "colab": {
     "base_uri": "https://localhost:8080/"
    },
    "id": "BRdBYYKkudd3",
    "outputId": "7cdbb214-ddfe-4ea7-f10b-f63d31811083"
   },
   "outputs": [
    {
     "name": "stdout",
     "output_type": "stream",
     "text": [
      "#####\n",
      "#####\n",
      "#####\n",
      "#####\n",
      "#####\n"
     ]
    }
   ],
   "source": [
    "print(\"#####\",\"#####\",\"#####\",\"#####\",\"#####\",sep='\\n')"
   ]
  }
 ],
 "metadata": {
  "colab": {
   "collapsed_sections": [],
   "name": "Data Output.ipynb",
   "provenance": []
  },
  "kernelspec": {
   "display_name": "Python 3",
   "language": "python",
   "name": "python3"
  },
  "language_info": {
   "codemirror_mode": {
    "name": "ipython",
    "version": 3
   },
   "file_extension": ".py",
   "mimetype": "text/x-python",
   "name": "python",
   "nbconvert_exporter": "python",
   "pygments_lexer": "ipython3",
   "version": "3.8.5"
  }
 },
 "nbformat": 4,
 "nbformat_minor": 1
}
