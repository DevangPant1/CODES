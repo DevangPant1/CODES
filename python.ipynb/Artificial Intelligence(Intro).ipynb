{
 "cells": [
  {
   "cell_type": "code",
   "execution_count": 1,
   "metadata": {},
   "outputs": [
    {
     "name": "stdout",
     "output_type": "stream",
     "text": [
      "[1, 2, 3, 4, 5, 6]\n"
     ]
    }
   ],
   "source": [
    "a=[1,2,3,4,5,6]\n",
    "print(a)"
   ]
  },
  {
   "cell_type": "code",
   "execution_count": 2,
   "metadata": {},
   "outputs": [
    {
     "name": "stdout",
     "output_type": "stream",
     "text": [
      "2\n"
     ]
    }
   ],
   "source": [
    "a=[1,2,3,4,5,6]\n",
    "print(a[1])"
   ]
  },
  {
   "cell_type": "code",
   "execution_count": 5,
   "metadata": {},
   "outputs": [
    {
     "name": "stdout",
     "output_type": "stream",
     "text": [
      "Enter weight of fruit100\n",
      "Enter texture1\n",
      "Fruit is Apple\n"
     ]
    }
   ],
   "source": [
    "\n",
    "features=[[140,1],[130,1],[150,0],[170,0]]#to create list\n",
    "outcome=[0,0,1,1]\n",
    "from sklearn.tree import DecisionTreeClassifier#to import Decision Tree Classifier from sklearn\n",
    "dev=DecisionTreeClassifier()\n",
    "dev.fit(features,outcome)#to train code\n",
    "a=input(\"Enter weight of fruit\")\n",
    "b=input(\"Enter texture\")\n",
    "a=int(a)\n",
    "b=int(b)\n",
    "y=dev.predict([[a,b]])#to predict output\n",
    "if y[0]==1:\n",
    "    print(\"FRUIT IS ORANGE\")\n",
    "else:\n",
    "    print(\"Fruit is Apple\")"
   ]
  },
  {
   "cell_type": "code",
   "execution_count": 3,
   "metadata": {},
   "outputs": [
    {
     "name": "stdout",
     "output_type": "stream",
     "text": [
      "Enter only numbers\n",
      "0 means round\n",
      "1 means not round\n",
      "0 means not shining\n",
      "1 means Shining\n",
      "Enter shape=1\n",
      "Enter Brightness=0\n",
      "You are thinking of a planet\n"
     ]
    }
   ],
   "source": [
    "print(\"Enter only numbers\",\"0 means round\",\"1 means not round\",\"0 means not shining\",\"1 means Shining\",sep=\"\\n\")\n",
    "a=input(\"Enter shape=\")\n",
    "b=input(\"Enter Brightness=\")\n",
    "a=int(a)\n",
    "b=int(b)\n",
    "features=[[1,0],[1,1],[0,1],[0,0]]\n",
    "outcome=[0,1,1,0]\n",
    "from sklearn.tree import DecisionTreeClassifier\n",
    "dev=DecisionTreeClassifier()\n",
    "dev.fit(features,outcome)\n",
    "y=dev.predict([[a,b]])\n",
    "if y[0]==0:\n",
    "    print(\"You are thinking of a planet\")\n",
    "else:\n",
    "    print(\"You are thinking of a star\")"
   ]
  },
  {
   "cell_type": "code",
   "execution_count": 1,
   "metadata": {},
   "outputs": [
    {
     "name": "stdout",
     "output_type": "stream",
     "text": [
      "I will find the number you are thinking of\n",
      "Is your number less than equal to five-0\n",
      "Is it an even number-0\n",
      "Multiply five to what you got-20\n",
      "4\n"
     ]
    }
   ],
   "source": [
    "print(\"I will find the number you are thinking of\")\n",
    "a=input(\"Is your number less than equal to five-\")\n",
    "b=input(\"Is it an even number-\")\n",
    "c=input(\"Multiply five to what you got-\")\n",
    "a=int(a)\n",
    "b=int(b)\n",
    "c=int(c)\n",
    "f=[[0,0,10],[0,0,20],[0,1,5],[0,1,15],[0,1,25],[1,0,30],[1,0,40],[1,0,50],[1,1,35],[1,1,45]]\n",
    "o=[2,4,1,3,5,6,8,10,7,9]\n",
    "from sklearn.tree import DecisionTreeClassifier\n",
    "dev=DecisionTreeClassifier()\n",
    "dev.fit(f,o)\n",
    "y=dev.predict([[a,b,c]])\n",
    "print(y[0])\n"
   ]
  },
  {
   "cell_type": "code",
   "execution_count": null,
   "metadata": {},
   "outputs": [],
   "source": []
  }
 ],
 "metadata": {
  "kernelspec": {
   "display_name": "Python 3",
   "language": "python",
   "name": "python3"
  },
  "language_info": {
   "codemirror_mode": {
    "name": "ipython",
    "version": 3
   },
   "file_extension": ".py",
   "mimetype": "text/x-python",
   "name": "python",
   "nbconvert_exporter": "python",
   "pygments_lexer": "ipython3",
   "version": "3.8.5"
  }
 },
 "nbformat": 4,
 "nbformat_minor": 4
}
