{
 "cells": [
  {
   "cell_type": "code",
   "execution_count": 1,
   "metadata": {},
   "outputs": [
    {
     "name": "stdout",
     "output_type": "stream",
     "text": [
      "55\n",
      "45\n",
      "10.0\n",
      "250\n"
     ]
    }
   ],
   "source": [
    "a=50\n",
    "b=5\n",
    "print(a+b)\n",
    "print(a-b)\n",
    "print(a/b)\n",
    "print(a*b)"
   ]
  },
  {
   "cell_type": "code",
   "execution_count": 2,
   "metadata": {},
   "outputs": [
    {
     "name": "stdout",
     "output_type": "stream",
     "text": [
      "60 40 5.0 500\n"
     ]
    }
   ],
   "source": [
    "a=50\n",
    "b=10\n",
    "c=a+b\n",
    "d=a-b\n",
    "e=a/b\n",
    "f=a*b\n",
    "print(c,d,e,f)"
   ]
  },
  {
   "cell_type": "code",
   "execution_count": 4,
   "metadata": {},
   "outputs": [
    {
     "name": "stdout",
     "output_type": "stream",
     "text": [
      "Enter a number you want to square=6\n",
      "Square of 6 is 36\n"
     ]
    }
   ],
   "source": [
    "a=input(\"Enter a number you want to square=\")\n",
    "a=int(a)\n",
    "b=a*a\n",
    "print(\"Square of\",a,\"is\",b)"
   ]
  },
  {
   "cell_type": "code",
   "execution_count": 7,
   "metadata": {},
   "outputs": [
    {
     "name": "stdout",
     "output_type": "stream",
     "text": [
      "Enter any number=3\n",
      "6---9---12---15\n"
     ]
    }
   ],
   "source": [
    "a=input(\"Enter any number=\")\n",
    "a=int(a)\n",
    "b=2*a\n",
    "c=3*a\n",
    "d=4*a\n",
    "e=5*a\n",
    "print(b,c,d,e,sep=\"---\")"
   ]
  },
  {
   "cell_type": "code",
   "execution_count": 2,
   "metadata": {},
   "outputs": [
    {
     "name": "stdout",
     "output_type": "stream",
     "text": [
      "Enter any number=4\n",
      "Enter any number=4\n",
      "Enter any number=4\n",
      "Sum= 12\n",
      "Average= 4.0\n"
     ]
    }
   ],
   "source": [
    "a=input(\"Enter any number=\")\n",
    "b=input(\"Enter any number=\")\n",
    "c=input(\"Enter any number=\")\n",
    "a=int(a)\n",
    "b=int(b)\n",
    "c=int(c)\n",
    "d=a+b+c\n",
    "e=d/3\n",
    "print(\"Sum=\",d)\n",
    "print(\"Average=\",e)"
   ]
  },
  {
   "cell_type": "code",
   "execution_count": 5,
   "metadata": {},
   "outputs": [
    {
     "name": "stdout",
     "output_type": "stream",
     "text": [
      "Enter Meal Bill=$50\n",
      "Enter percentage of tip=5\n",
      "Total Bill=$ 52.5\n",
      "Tip=$ 2.5\n"
     ]
    }
   ],
   "source": [
    "a=input(\"Enter Meal Bill=$\")\n",
    "b=input(\"Enter percentage of tip=\")\n",
    "a=float(a)\n",
    "b=float(b)\n",
    "c=b/100*a\n",
    "d=c+a\n",
    "print(\"Total Bill=$\",d)\n",
    "print(\"Tip=$\",c)"
   ]
  },
  {
   "cell_type": "code",
   "execution_count": 7,
   "metadata": {},
   "outputs": [
    {
     "name": "stdout",
     "output_type": "stream",
     "text": [
      "2\n",
      "18\n",
      "16423203268260658146231467800709255289000000000000000000000000000000000000000000000000000000000000000000000000000000\n"
     ]
    }
   ],
   "source": [
    "a=78\n",
    "b=30\n",
    "print(a//b)\n",
    "print(a%b)\n",
    "print(b**a)"
   ]
  },
  {
   "cell_type": "code",
   "execution_count": 9,
   "metadata": {},
   "outputs": [
    {
     "name": "stdout",
     "output_type": "stream",
     "text": [
      "Enter any seconds=90\n",
      "1 minutes 30 seconds\n"
     ]
    }
   ],
   "source": [
    "a=input(\"Enter any seconds=\")\n",
    "a=int(a)\n",
    "b=a//60\n",
    "c=a%60\n",
    "print(b,\"minutes\",c,\"seconds\")"
   ]
  },
  {
   "cell_type": "code",
   "execution_count": 1,
   "metadata": {},
   "outputs": [
    {
     "name": "stdout",
     "output_type": "stream",
     "text": [
      "Enter any year=2000\n",
      "2000 is a leap year\n"
     ]
    }
   ],
   "source": [
    "#A year is a leap year if it is divisible by 4, except that years divisible by 100 are not leap years unless they are also divisible by 400. Write a program that asks the user for a year and prints out whether it is a leap year or not.\n",
    "a=input(\"Enter any year=\")\n",
    "a=int(a)\n",
    "if a%4==0:\n",
    "    if a%100==0 and a%400==0:\n",
    "            print(a,\"is a leap year\")\n",
    "    elif a%100==0:\n",
    "            print(a,\"is not a leap year\")\n",
    "else:\n",
    "    print(a,\"is not a leap year\")\n",
    "         "
   ]
  },
  {
   "cell_type": "code",
   "execution_count": 2,
   "metadata": {},
   "outputs": [
    {
     "name": "stdout",
     "output_type": "stream",
     "text": [
      "Enter any number 2 digit number=34\n",
      "Sum= 7\n"
     ]
    }
   ],
   "source": [
    "a=input(\"Enter any number 2 digit number=\")\n",
    "a=int(a)\n",
    "if a//10<10:\n",
    "    b=a//10\n",
    "    c=a%10\n",
    "    d=b+c\n",
    "    print(\"Sum=\",d)\n",
    "else:\n",
    "    print(\"Enter a valid integer\")"
   ]
  },
  {
   "cell_type": "code",
   "execution_count": null,
   "metadata": {},
   "outputs": [],
   "source": []
  }
 ],
 "metadata": {
  "kernelspec": {
   "display_name": "Python 3",
   "language": "python",
   "name": "python3"
  },
  "language_info": {
   "codemirror_mode": {
    "name": "ipython",
    "version": 3
   },
   "file_extension": ".py",
   "mimetype": "text/x-python",
   "name": "python",
   "nbconvert_exporter": "python",
   "pygments_lexer": "ipython3",
   "version": "3.8.5"
  }
 },
 "nbformat": 4,
 "nbformat_minor": 4
}
