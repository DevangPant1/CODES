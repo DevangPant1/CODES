{
 "cells": [
  {
   "cell_type": "code",
   "execution_count": 3,
   "metadata": {},
   "outputs": [
    {
     "name": "stdout",
     "output_type": "stream",
     "text": [
      "Enter your First Name-DEVANG\n",
      "Enter your Last Name-PAN\n",
      "Enter your number-9818608073\n",
      "<class 'str'>\n",
      "<class 'str'>\n",
      "<class 'str'>\n"
     ]
    }
   ],
   "source": [
    "Firstname=input(\"Enter your First Name-\")\n",
    "LastName=input(\"Enter your Last Name-\")\n",
    "Telephone=input(\"Enter your number-\")\n",
    "print(type(Firstname))\n",
    "print(type(LastName))\n",
    "print(type(Telephone))"
   ]
  },
  {
   "cell_type": "code",
   "execution_count": 6,
   "metadata": {},
   "outputs": [
    {
     "name": "stdout",
     "output_type": "stream",
     "text": [
      "<class 'str'>\n",
      "<class 'int'>\n",
      "50\n"
     ]
    }
   ],
   "source": [
    "a=\"50\"\n",
    "print(type(a))\n",
    "a=int(a)#to convert string to integer \n",
    "print(type(a))\n",
    "print(a)"
   ]
  },
  {
   "cell_type": "code",
   "execution_count": 9,
   "metadata": {},
   "outputs": [
    {
     "name": "stdout",
     "output_type": "stream",
     "text": [
      "34\n"
     ]
    }
   ],
   "source": [
    "#to convert float to int\n",
    "a=34.78\n",
    "a=int(a)\n",
    "print(a)"
   ]
  },
  {
   "cell_type": "code",
   "execution_count": 10,
   "metadata": {},
   "outputs": [
    {
     "name": "stdout",
     "output_type": "stream",
     "text": [
      "1\n",
      "0\n"
     ]
    }
   ],
   "source": [
    "#bool to int\n",
    "a=True #true is always 1 \n",
    "b=False #false is 0\n",
    "a=int(a)#to convert bool to int\n",
    "b=int(b)\n",
    "print(a,b,sep=\"\\n\")"
   ]
  },
  {
   "cell_type": "code",
   "execution_count": 11,
   "metadata": {},
   "outputs": [
    {
     "name": "stdout",
     "output_type": "stream",
     "text": [
      "<class 'float'>\n",
      "34.0\n"
     ]
    }
   ],
   "source": [
    "#int to float\n",
    "a=34\n",
    "a=float(34)#to convert int to float \n",
    "print(type(a))\n",
    "print(a)"
   ]
  },
  {
   "cell_type": "code",
   "execution_count": 13,
   "metadata": {},
   "outputs": [
    {
     "name": "stdout",
     "output_type": "stream",
     "text": [
      "<class 'float'>\n",
      "6.6\n"
     ]
    }
   ],
   "source": [
    "#string to float\n",
    "v=\"6.6\"\n",
    "v=float(v)#to convert string to float\n",
    "print(type(v))\n",
    "print(v)"
   ]
  },
  {
   "cell_type": "code",
   "execution_count": 14,
   "metadata": {},
   "outputs": [
    {
     "name": "stdout",
     "output_type": "stream",
     "text": [
      "1.0\n",
      "0.0\n"
     ]
    }
   ],
   "source": [
    "#bool to float\n",
    "c=True\n",
    "b=False\n",
    "c=float(c)#to convert bool to float\n",
    "b=float(b)\n",
    "print(c)\n",
    "print(b)"
   ]
  },
  {
   "cell_type": "code",
   "execution_count": 15,
   "metadata": {},
   "outputs": [
    {
     "name": "stdout",
     "output_type": "stream",
     "text": [
      "<class 'str'>\n",
      "30\n",
      "<class 'str'>\n",
      "True\n",
      "<class 'str'>\n",
      "54.5\n"
     ]
    }
   ],
   "source": [
    "#to convert int,bool and float to string\n",
    "a=30\n",
    "b=True\n",
    "c=54.5\n",
    "a=str(a)#to convert int to string\n",
    "b=str(b)#to convert bool to string\n",
    "c=str(c)#to convert float to string\n",
    "print(type(a))\n",
    "print(a)\n",
    "print(type(b))\n",
    "print(b)\n",
    "print(type(c))\n",
    "print(c)\n"
   ]
  },
  {
   "cell_type": "code",
   "execution_count": 16,
   "metadata": {},
   "outputs": [
    {
     "name": "stdout",
     "output_type": "stream",
     "text": [
      "True\n",
      "True\n",
      "False\n"
     ]
    }
   ],
   "source": [
    "#to convert int to bool\n",
    "a=2\n",
    "b=1\n",
    "c=0\n",
    "a=bool(a)#to convert int to bool\n",
    "b=bool(b)\n",
    "c=bool(c)\n",
    "print(a)\n",
    "print(b)\n",
    "print(c)"
   ]
  },
  {
   "cell_type": "code",
   "execution_count": 17,
   "metadata": {},
   "outputs": [
    {
     "name": "stdout",
     "output_type": "stream",
     "text": [
      "True\n",
      "True\n",
      "False\n"
     ]
    }
   ],
   "source": [
    "#to convert float to bool\n",
    "a=4.5\n",
    "b=1.0\n",
    "c=0.0\n",
    "a=bool(a)#to convert float to bool\n",
    "b=bool(b)\n",
    "c=bool(c)\n",
    "print(a)\n",
    "print(b)\n",
    "print(c)\n"
   ]
  },
  {
   "cell_type": "code",
   "execution_count": 18,
   "metadata": {},
   "outputs": [
    {
     "name": "stdout",
     "output_type": "stream",
     "text": [
      "True\n",
      "True\n",
      "True\n",
      "False\n"
     ]
    }
   ],
   "source": [
    "#to conver tstring to bool\n",
    "a=\"TRUE\"\n",
    "b=\"False\"\n",
    "c=\"qtconsolewegrhfjk\"\n",
    "d=\"\"\n",
    "a=bool(a)#to convert string to bool\n",
    "b=bool(b)\n",
    "c=bool(c)\n",
    "d=bool(d)\n",
    "print(a,b,c,d,sep=\"\\n\")"
   ]
  },
  {
   "cell_type": "code",
   "execution_count": 3,
   "metadata": {
    "scrolled": false
   },
   "outputs": [
    {
     "name": "stdout",
     "output_type": "stream",
     "text": [
      "Write your full name-Devang Pant\n",
      "How many times should your name be repeated-4\n",
      "Devang Pant\n",
      "Devang Pant\n",
      "Devang Pant\n",
      "Devang Pant\n",
      "\n"
     ]
    }
   ],
   "source": [
    "Name=input(\"Write your full name-\")\n",
    "Name = Name +\"\\n\"#to seperate lines having variables\n",
    "times=input(\"How many times should your name be repeated-\")\n",
    "times=int(times)\n",
    "print(Name*times)"
   ]
  },
  {
   "cell_type": "code",
   "execution_count": null,
   "metadata": {},
   "outputs": [],
   "source": []
  },
  {
   "cell_type": "code",
   "execution_count": null,
   "metadata": {},
   "outputs": [],
   "source": []
  }
 ],
 "metadata": {
  "kernelspec": {
   "display_name": "Python 3",
   "language": "python",
   "name": "python3"
  },
  "language_info": {
   "codemirror_mode": {
    "name": "ipython",
    "version": 3
   },
   "file_extension": ".py",
   "mimetype": "text/x-python",
   "name": "python",
   "nbconvert_exporter": "python",
   "pygments_lexer": "ipython3",
   "version": "3.8.5"
  }
 },
 "nbformat": 4,
 "nbformat_minor": 4
}
