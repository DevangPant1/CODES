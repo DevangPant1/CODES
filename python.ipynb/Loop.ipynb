{
 "cells": [
  {
   "cell_type": "code",
   "execution_count": 4,
   "metadata": {},
   "outputs": [
    {
     "name": "stdout",
     "output_type": "stream",
     "text": [
      "0\n",
      "2\n",
      "4\n",
      "6\n",
      "8\n",
      "10\n"
     ]
    }
   ],
   "source": [
    "for dev in range(0,12,2):#used for loop,1st value is starting value\n",
    "    print(dev)"
   ]
  },
  {
   "cell_type": "code",
   "execution_count": 7,
   "metadata": {},
   "outputs": [
    {
     "name": "stdout",
     "output_type": "stream",
     "text": [
      "hi\n",
      "hi\n",
      "hi\n",
      "hi\n",
      "hi\n"
     ]
    }
   ],
   "source": [
    "for d in range(5):\n",
    "    print(\"hi\")"
   ]
  },
  {
   "cell_type": "code",
   "execution_count": 9,
   "metadata": {},
   "outputs": [
    {
     "name": "stdout",
     "output_type": "stream",
     "text": [
      "1)Devang\n",
      "2)Devang\n",
      "3)Devang\n",
      "4)Devang\n",
      "5)Devang\n",
      "6)Devang\n",
      "7)Devang\n",
      "8)Devang\n",
      "9)Devang\n",
      "10)Devang\n",
      "11)Devang\n",
      "12)Devang\n",
      "13)Devang\n",
      "14)Devang\n",
      "15)Devang\n",
      "16)Devang\n",
      "17)Devang\n",
      "18)Devang\n",
      "19)Devang\n",
      "20)Devang\n",
      "21)Devang\n",
      "22)Devang\n",
      "23)Devang\n",
      "24)Devang\n",
      "25)Devang\n",
      "26)Devang\n",
      "27)Devang\n",
      "28)Devang\n",
      "29)Devang\n",
      "30)Devang\n",
      "31)Devang\n",
      "32)Devang\n",
      "33)Devang\n",
      "34)Devang\n",
      "35)Devang\n",
      "36)Devang\n",
      "37)Devang\n",
      "38)Devang\n",
      "39)Devang\n",
      "40)Devang\n",
      "41)Devang\n",
      "42)Devang\n",
      "43)Devang\n",
      "44)Devang\n",
      "45)Devang\n",
      "46)Devang\n",
      "47)Devang\n",
      "48)Devang\n",
      "49)Devang\n",
      "50)Devang\n",
      "51)Devang\n",
      "52)Devang\n",
      "53)Devang\n",
      "54)Devang\n",
      "55)Devang\n",
      "56)Devang\n",
      "57)Devang\n",
      "58)Devang\n",
      "59)Devang\n",
      "60)Devang\n",
      "61)Devang\n",
      "62)Devang\n",
      "63)Devang\n",
      "64)Devang\n",
      "65)Devang\n",
      "66)Devang\n",
      "67)Devang\n",
      "68)Devang\n",
      "69)Devang\n",
      "70)Devang\n",
      "71)Devang\n",
      "72)Devang\n",
      "73)Devang\n",
      "74)Devang\n",
      "75)Devang\n",
      "76)Devang\n",
      "77)Devang\n",
      "78)Devang\n",
      "79)Devang\n",
      "80)Devang\n",
      "81)Devang\n",
      "82)Devang\n",
      "83)Devang\n",
      "84)Devang\n",
      "85)Devang\n",
      "86)Devang\n",
      "87)Devang\n",
      "88)Devang\n",
      "89)Devang\n",
      "90)Devang\n",
      "91)Devang\n",
      "92)Devang\n",
      "93)Devang\n",
      "94)Devang\n",
      "95)Devang\n",
      "96)Devang\n",
      "97)Devang\n",
      "98)Devang\n",
      "99)Devang\n",
      "100)Devang\n"
     ]
    }
   ],
   "source": [
    "for yn in range(1,101,1):\n",
    "    print(yn,\"Devang\",sep=\")\")\n",
    "    "
   ]
  },
  {
   "cell_type": "code",
   "execution_count": 10,
   "metadata": {},
   "outputs": [
    {
     "name": "stdout",
     "output_type": "stream",
     "text": [
      "Enter your name:Devang\n",
      "Enter how many times you want to repeat it:5\n",
      "1)Devang\n",
      "2)Devang\n",
      "3)Devang\n",
      "4)Devang\n",
      "5)Devang\n"
     ]
    }
   ],
   "source": [
    "a=input(\"Enter your name:\")\n",
    "b=input(\"Enter how many times you want to repeat it:\")\n",
    "b=int(b)\n",
    "for rep in range(1,b+1,1):\n",
    "    print(rep,a,sep=\")\")\n"
   ]
  },
  {
   "cell_type": "code",
   "execution_count": 14,
   "metadata": {},
   "outputs": [
    {
     "name": "stdout",
     "output_type": "stream",
     "text": [
      "8\n",
      "11\n",
      "14\n",
      "17\n",
      "20\n",
      "23\n",
      "26\n",
      "29\n",
      "32\n",
      "35\n",
      "38\n",
      "41\n",
      "44\n",
      "47\n",
      "50\n",
      "53\n",
      "56\n",
      "59\n",
      "62\n",
      "65\n",
      "68\n",
      "71\n",
      "74\n",
      "77\n",
      "80\n",
      "83\n",
      "86\n",
      "89\n"
     ]
    }
   ],
   "source": [
    "for a in range(8,91,3):\n",
    "    print(a) "
   ]
  },
  {
   "cell_type": "code",
   "execution_count": 27,
   "metadata": {
    "scrolled": true
   },
   "outputs": [
    {
     "name": "stdout",
     "output_type": "stream",
     "text": [
      "100\n",
      "98\n",
      "96\n",
      "94\n",
      "92\n",
      "90\n",
      "88\n",
      "86\n",
      "84\n",
      "82\n",
      "80\n",
      "78\n",
      "76\n",
      "74\n",
      "72\n",
      "70\n",
      "68\n",
      "66\n",
      "64\n",
      "62\n",
      "60\n",
      "58\n",
      "56\n",
      "54\n",
      "52\n",
      "50\n",
      "48\n",
      "46\n",
      "44\n",
      "42\n",
      "40\n",
      "38\n",
      "36\n",
      "34\n",
      "32\n",
      "30\n",
      "28\n",
      "26\n",
      "24\n",
      "22\n",
      "20\n",
      "18\n",
      "16\n",
      "14\n",
      "12\n",
      "10\n",
      "8\n",
      "6\n",
      "4\n"
     ]
    }
   ],
   "source": [
    "for a in range(100,2,-2):\n",
    "    print(a)"
   ]
  },
  {
   "cell_type": "code",
   "execution_count": 30,
   "metadata": {},
   "outputs": [
    {
     "name": "stdout",
     "output_type": "stream",
     "text": [
      "Height:7\n",
      "Width:8\n",
      "********\n",
      "********\n",
      "********\n",
      "********\n",
      "********\n",
      "********\n",
      "********\n"
     ]
    }
   ],
   "source": [
    "a=input(\"Height:\")\n",
    "b=input(\"Width:\")\n",
    "a=int(a)\n",
    "b=int(b)\n",
    "c=\"*\"\n",
    "for w in range(a):\n",
    "    print(b*c)"
   ]
  },
  {
   "cell_type": "code",
   "execution_count": 36,
   "metadata": {},
   "outputs": [
    {
     "name": "stdout",
     "output_type": "stream",
     "text": [
      "No. of rows:8\n",
      "\n",
      "*\n",
      "**\n",
      "***\n",
      "****\n",
      "*****\n",
      "******\n",
      "*******\n"
     ]
    }
   ],
   "source": [
    "a=input(\"No. of rows:\")\n",
    "a=int(a)\n",
    "for r in range(0,a,1):\n",
    "    print(r*\"*\")\n",
    "        \n"
   ]
  },
  {
   "cell_type": "code",
   "execution_count": null,
   "metadata": {},
   "outputs": [],
   "source": [
    "\n"
   ]
  }
 ],
 "metadata": {
  "kernelspec": {
   "display_name": "Python 3",
   "language": "python",
   "name": "python3"
  },
  "language_info": {
   "codemirror_mode": {
    "name": "ipython",
    "version": 3
   },
   "file_extension": ".py",
   "mimetype": "text/x-python",
   "name": "python",
   "nbconvert_exporter": "python",
   "pygments_lexer": "ipython3",
   "version": "3.8.5"
  }
 },
 "nbformat": 4,
 "nbformat_minor": 4
}
