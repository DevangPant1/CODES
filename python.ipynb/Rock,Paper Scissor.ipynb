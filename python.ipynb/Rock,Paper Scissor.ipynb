{
 "cells": [
  {
   "cell_type": "code",
   "execution_count": 1,
   "metadata": {},
   "outputs": [
    {
     "name": "stdout",
     "output_type": "stream",
     "text": [
      "1-Rock\n",
      "2-Paper\n",
      "3-Scissors\n",
      "Enter any 1 number-3\n",
      "Computer Number 2\n",
      "You win\n",
      "Well Played\n"
     ]
    }
   ],
   "source": [
    "print('1-Rock','2-Paper','3-Scissors',sep=\"\\n\")\n",
    "a=input(\"Enter any 1 number-\")\n",
    "a=int(a)\n",
    "from random import *\n",
    "b=randint(1,3)\n",
    "print(\"Computer Number\",b)\n",
    "if a==1 and b==2:\n",
    "    print(\"Computer Wins\")\n",
    "elif a==2 and b==1:\n",
    "    print(\"You win\")\n",
    "elif a==3 and b==1:\n",
    "    print(\"Computer wins\")\n",
    "elif a==1 and b==1:\n",
    "    print(\"Tie\")\n",
    "elif a==1 and b==3:\n",
    "    print(\"You win\")\n",
    "elif a==2 and b==2:\n",
    "    print(\"Tie\")\n",
    "elif a==2 and b==3:\n",
    "    print(\"Computer Wins\")\n",
    "elif a==3 and b==2:\n",
    "    print(\"You win\")\n",
    "elif a==3 and b==3:\n",
    "    print(\"Tie\")\n",
    "print(\"Well Played\")\n"
   ]
  },
  {
   "cell_type": "code",
   "execution_count": null,
   "metadata": {},
   "outputs": [],
   "source": [
    "a=input(\"Enter any number=\")\n",
    "b=input(\"Enter any number\")\n",
    "c=input(\"Enter any number\") if a>b:\n",
    "        print(a,\"is greater than\",b)\n",
    "    elif a>c\n",
    "        print(a,\"is the greatest\") \n",
    "else:\n",
    "    print(a,)"
   ]
  },
  {
   "cell_type": "code",
   "execution_count": 2,
   "metadata": {},
   "outputs": [
    {
     "name": "stdout",
     "output_type": "stream",
     "text": [
      "Enter how many items you have taken-99\n",
      "Cost is $ 990\n"
     ]
    }
   ],
   "source": [
    "#A store charges $12 per item if you buy less than 10 items. If you buy between 10 and 99 items, the cost is $10 per item. If you buy 100 or more items, the cost is $7 per item. Write a program that asks the user how many items they are buying and prints the total cost.\n",
    "a=input(\"Enter how many items you have taken-\")\n",
    "a=int(a)\n",
    "if a<10:\n",
    "    print(\"Cost is $\",a*12)\n",
    "elif  a<=99 and a>=10:\n",
    "    print(\"Cost is $\",a*10)\n",
    "elif a==100 or a>100:\n",
    "    print(\"Cost is $\",a*7)"
   ]
  },
  {
   "cell_type": "code",
   "execution_count": 20,
   "metadata": {},
   "outputs": [
    {
     "name": "stdout",
     "output_type": "stream",
     "text": [
      "Enter any number4\n",
      "Enter any number6\n",
      "Enter any number3\n",
      "6 is the greatest\n"
     ]
    }
   ],
   "source": [
    "a=input(\"Enter any number\")\n",
    "a=int(a)\n",
    "b=input(\"Enter any number\")\n",
    "b=int(b)\n",
    "c=input(\"Enter any number\")\n",
    "c=int(c)\n",
    "if a==b:\n",
    "    if b==c:\n",
    "        print(\"All numbers are equal\")\n",
    "else:\n",
    "    if a>b:\n",
    "        if a>c:\n",
    "            print(a,\"is the greatest\")\n",
    "        elif a<c:\n",
    "            print(c,\"is the greatest\")\n",
    "    elif b>a:\n",
    "        if b>c:\n",
    "            print(b,\"is the greatest\")\n",
    "        elif c>b:\n",
    "            print(c,\"is the greatest\")\n",
    "    \n",
    "\n"
   ]
  },
  {
   "cell_type": "code",
   "execution_count": null,
   "metadata": {},
   "outputs": [],
   "source": []
  }
 ],
 "metadata": {
  "kernelspec": {
   "display_name": "Python 3",
   "language": "python",
   "name": "python3"
  },
  "language_info": {
   "codemirror_mode": {
    "name": "ipython",
    "version": 3
   },
   "file_extension": ".py",
   "mimetype": "text/x-python",
   "name": "python",
   "nbconvert_exporter": "python",
   "pygments_lexer": "ipython3",
   "version": "3.8.5"
  }
 },
 "nbformat": 4,
 "nbformat_minor": 4
}
