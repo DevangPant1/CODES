{
 "cells": [
  {
   "cell_type": "code",
   "execution_count": 1,
   "metadata": {},
   "outputs": [
    {
     "name": "stdout",
     "output_type": "stream",
     "text": [
      "<class 'int'>\n",
      "<class 'float'>\n",
      "<class 'bool'>\n",
      "<class 'str'>\n"
     ]
    }
   ],
   "source": [
    "print(type(9))#represents numeric data type\n",
    "print(type(2.3))#represents decimal data type\n",
    "print(type(True))#represents boolean data type\n",
    "print(type(\"dev@123\"))#represents string data type"
   ]
  },
  {
   "cell_type": "code",
   "execution_count": 2,
   "metadata": {},
   "outputs": [
    {
     "name": "stdout",
     "output_type": "stream",
     "text": [
      "First Name- Devang\n",
      "Last Name- Pant\n",
      "Telephone- 9818608074\n",
      "Adress- Sohna Road,Gurugram\n"
     ]
    }
   ],
   "source": [
    "First_Name=\"Devang\"\n",
    "Last_Name=\"Pant\"#To print biodata using variables\n",
    "Telephone=9818608074\n",
    "Adress=\"Sohna Road,Gurugram\"\n",
    "print(\"First Name-\",First_Name)#to print data stored in variable\n",
    "print(\"Last Name-\",Last_Name)\n",
    "print(\"Telephone-\",Telephone)\n",
    "print(\"Adress-\",Adress)"
   ]
  },
  {
   "cell_type": "code",
   "execution_count": 3,
   "metadata": {},
   "outputs": [
    {
     "name": "stdout",
     "output_type": "stream",
     "text": [
      "********************\n",
      "********************\n",
      "********************\n",
      "********************\n",
      "********************\n"
     ]
    }
   ],
   "source": [
    "p=\"*\"*20\n",
    "print(p,p,p,p,p,sep=\"\\n\")"
   ]
  },
  {
   "cell_type": "code",
   "execution_count": 1,
   "metadata": {},
   "outputs": [
    {
     "name": "stdout",
     "output_type": "stream",
     "text": [
      "Enter your information here-\n",
      "Enter your First Name-DEVANG\n",
      "Enter your Last Name-PANT\n",
      "Enter your Telephone Number-9818608073\n",
      "Enter your Adress-SOHNA ROAD \n",
      "CONFIRM INFORMATION\n",
      "DEVANG\n",
      "PANT\n",
      "9818608073\n",
      "SOHNA ROAD \n"
     ]
    }
   ],
   "source": [
    "print(\"Enter your information here-\")\n",
    "sep=\"\\n\"\n",
    "First_Name=input(\"Enter your First Name-\")\n",
    "Last_Name=input(\"Enter your Last Name-\")\n",
    "Telephone=input(\"Enter your Telephone Number-\")\n",
    "Adress=input(\"Enter your Adress-\")\n",
    "sep=\"\\n\"\n",
    "print(\"CONFIRM INFORMATION\")\n",
    "sep=\"\\n\"\n",
    "print(First_Name,Last_Name,Telephone,Adress,sep=\"\\n\")"
   ]
  },
  {
   "cell_type": "code",
   "execution_count": null,
   "metadata": {},
   "outputs": [],
   "source": []
  },
  {
   "cell_type": "code",
   "execution_count": null,
   "metadata": {},
   "outputs": [],
   "source": []
  },
  {
   "cell_type": "code",
   "execution_count": null,
   "metadata": {},
   "outputs": [],
   "source": []
  },
  {
   "cell_type": "code",
   "execution_count": null,
   "metadata": {},
   "outputs": [],
   "source": []
  },
  {
   "cell_type": "code",
   "execution_count": null,
   "metadata": {},
   "outputs": [],
   "source": []
  }
 ],
 "metadata": {
  "kernelspec": {
   "display_name": "Python 3",
   "language": "python",
   "name": "python3"
  },
  "language_info": {
   "codemirror_mode": {
    "name": "ipython",
    "version": 3
   },
   "file_extension": ".py",
   "mimetype": "text/x-python",
   "name": "python",
   "nbconvert_exporter": "python",
   "pygments_lexer": "ipython3",
   "version": "3.8.5"
  }
 },
 "nbformat": 4,
 "nbformat_minor": 4
}
