{
 "cells": [
  {
   "cell_type": "code",
   "execution_count": 3,
   "source": [
    "print(\"1 is rock\",\"2 is paper\",\"3 is scissors\",sep=\"\\n\")\n",
    "print(\" \")\n",
    "for a in range(5):\n",
    "    print()\n",
    "    print(\"Round\",a+1)\n",
    "    d=input(\"Enter choice-\")\n",
    "    from random import randint\n",
    "    b=randint(1,3)\n",
    "    if b==1:\n",
    "        print(\"Computer-Rock\")\n",
    "    elif b==2:\n",
    "        print(\"Computer-Paper\")\n",
    "    else:\n",
    "        print(\"Computer-Scissor\")\n",
    "    d=int(d)\n",
    "    tie=0\n",
    "    awin=0\n",
    "    bwin=0\n",
    "    if d==1 and b==1:\n",
    "        tie=tie+1\n",
    "    elif d==2 and b==2:\n",
    "        tie=tie+1\n",
    "    elif d==3 and b==3:\n",
    "        tie=tie+1\n",
    "    elif d==1 and b==2:\n",
    "        awin=awin+1\n",
    "    elif d==1 and b==3:\n",
    "        awin=awin+1\n",
    "    elif d==2 and b==1:\n",
    "        bwin=bwin+1\n",
    "    elif d==2 and b==3:\n",
    "        bwin=bwin+1\n",
    "    elif d==3 and b==1:\n",
    "        bwin=bwin+1\n",
    "    elif d==3 and b==2:\n",
    "        awin=awin+1\n",
    "\n",
    "if awin>bwin:\n",
    "    if awin>tie:\n",
    "        print()\n",
    "        print(\"You win\")\n",
    "    \n",
    "elif bwin>awin:\n",
    "    if bwin>tie:\n",
    "        print()\n",
    "        print(\"Computer wins\")\n",
    "else:\n",
    "    print(\"Tie\")\n",
    "        \n",
    "       \n",
    "            \n",
    "    \n",
    "        \n",
    "        \n",
    "\n",
    "    "
   ],
   "outputs": [
    {
     "output_type": "stream",
     "name": "stdout",
     "text": [
      "1 is rock\n",
      "2 is paper\n",
      "3 is scissors\n",
      " \n",
      "\n",
      "Round 1\n",
      "Enter choice-1\n",
      "Computer-Rock\n",
      "\n",
      "Round 2\n",
      "Enter choice-2\n",
      "Computer-Scissor\n",
      "\n",
      "Round 3\n",
      "Enter choice-3\n",
      "Computer-Paper\n",
      "\n",
      "Round 4\n",
      "Enter choice-2\n",
      "Computer-Rock\n",
      "\n",
      "Round 5\n",
      "Enter choice-1\n",
      "Computer-Paper\n",
      "\n",
      "You win\n"
     ]
    }
   ],
   "metadata": {}
  },
  {
   "cell_type": "code",
   "execution_count": 1,
   "source": [
    "for a in range(1):\n",
    "    print((a+1))\n",
    "for b in range(2):\n",
    "    print(b+1,end=\",\")\n",
    "print(\"\",end=\"\\b\")\n",
    "print(\" \",end=\"\\n\")\n",
    "for c in range(3):\n",
    "    print(c+1,end=\",\")\n",
    "print(\"\",end=\"\\b\")\n",
    "print(\" \",end=\"\\n\")\n",
    "for d in range(4):\n",
    "    print(d+1,end=\",\")\n",
    "print(\"\",end=\"\\b\")\n",
    "print(\" \",end=\"\\n\")\n",
    "for e in range(5):\n",
    "    print(e+1,end=\",\")\n",
    "print(\"\",end=\"\\b\")\n",
    "print(\" \",end=\"\\n\")"
   ],
   "outputs": [
    {
     "output_type": "stream",
     "name": "stdout",
     "text": [
      "1\n",
      "1,2,\b \n",
      "1,2,3,\b \n",
      "1,2,3,4,\b \n",
      "1,2,3,4,5,\b \n"
     ]
    }
   ],
   "metadata": {}
  },
  {
   "cell_type": "markdown",
   "source": [
    "## "
   ],
   "metadata": {}
  },
  {
   "cell_type": "code",
   "execution_count": 24,
   "source": [
    "for a in range(1,6):\n",
    "    for b in range(1,a+1):\n",
    "        print(b,end=\"\")\n",
    "    print()\n"
   ],
   "outputs": [
    {
     "output_type": "stream",
     "name": "stdout",
     "text": [
      "1\n",
      "12\n",
      "123\n",
      "1234\n",
      "12345\n"
     ]
    }
   ],
   "metadata": {}
  },
  {
   "cell_type": "code",
   "execution_count": null,
   "source": [],
   "outputs": [],
   "metadata": {}
  }
 ],
 "metadata": {
  "kernelspec": {
   "display_name": "Python 3",
   "language": "python",
   "name": "python3"
  },
  "language_info": {
   "codemirror_mode": {
    "name": "ipython",
    "version": 3
   },
   "file_extension": ".py",
   "mimetype": "text/x-python",
   "name": "python",
   "nbconvert_exporter": "python",
   "pygments_lexer": "ipython3",
   "version": "3.8.5"
  }
 },
 "nbformat": 4,
 "nbformat_minor": 4
}