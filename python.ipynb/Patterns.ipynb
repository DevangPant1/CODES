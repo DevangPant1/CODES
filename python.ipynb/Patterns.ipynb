{
 "cells": [
  {
   "cell_type": "code",
   "execution_count": 6,
   "metadata": {},
   "outputs": [
    {
     "name": "stdout",
     "output_type": "stream",
     "text": [
      "    *\n",
      "   ***\n",
      "  *****\n",
      " *******\n"
     ]
    }
   ],
   "source": [
    "for d in range(4):\n",
    "    print(\" \"*(3-d),\"*\"*(2*d+1))"
   ]
  },
  {
   "cell_type": "code",
   "execution_count": 14,
   "metadata": {},
   "outputs": [
    {
     "name": "stdout",
     "output_type": "stream",
     "text": [
      "    *\n",
      "   ***\n",
      "  *****\n",
      " *******\n",
      "  *****\n",
      "   ***\n",
      "    *\n"
     ]
    }
   ],
   "source": [
    "for s in range(4):\n",
    "    print(\" \"*(3-s),\"*\"*(2*s+1))\n",
    "for d in range(3):\n",
    "    print(\" \"*(d+1),\"*\"*(-1*(2*d-5)))"
   ]
  },
  {
   "cell_type": "code",
   "execution_count": 20,
   "metadata": {},
   "outputs": [
    {
     "name": "stdout",
     "output_type": "stream",
     "text": [
      "  #######\n",
      "   #####\n",
      "    ###\n",
      "     #\n",
      "    ###\n",
      "   #####\n",
      "  #######\n"
     ]
    }
   ],
   "source": [
    "for e in range(4):\n",
    "    print(\" \"*(e+1),\"#\"*(7-2*e))\n",
    "for d in range(3):\n",
    "    print(\" \"*(3-d),\"#\"*(3+2*d))"
   ]
  },
  {
   "cell_type": "code",
   "execution_count": 22,
   "metadata": {},
   "outputs": [
    {
     "name": "stdout",
     "output_type": "stream",
     "text": [
      "00\n",
      "01\n",
      "10\n",
      "11\n",
      "20\n",
      "21\n"
     ]
    }
   ],
   "source": [
    "for t in range(3):\n",
    "    for e in range(2):\n",
    "        print(t,e,sep=\"\")"
   ]
  },
  {
   "cell_type": "code",
   "execution_count": 4,
   "metadata": {},
   "outputs": [
    {
     "name": "stdout",
     "output_type": "stream",
     "text": [
      "*****\n",
      "\n",
      "  *\n",
      "   *\n",
      "    *\n",
      "     *\n"
     ]
    }
   ],
   "source": [
    "print(\"*\"*5)\n",
    "print()\n",
    "for a in range(4):\n",
    "    print(\" \"*(a+1),\"*\")\n"
   ]
  },
  {
   "cell_type": "code",
   "execution_count": null,
   "metadata": {},
   "outputs": [],
   "source": []
  }
 ],
 "metadata": {
  "kernelspec": {
   "display_name": "Python 3",
   "language": "python",
   "name": "python3"
  },
  "language_info": {
   "codemirror_mode": {
    "name": "ipython",
    "version": 3
   },
   "file_extension": ".py",
   "mimetype": "text/x-python",
   "name": "python",
   "nbconvert_exporter": "python",
   "pygments_lexer": "ipython3",
   "version": "3.8.5"
  }
 },
 "nbformat": 4,
 "nbformat_minor": 4
}
