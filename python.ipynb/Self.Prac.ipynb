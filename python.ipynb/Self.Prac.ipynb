{
 "cells": [
  {
   "cell_type": "code",
   "execution_count": 2,
   "metadata": {},
   "outputs": [
    {
     "name": "stdout",
     "output_type": "stream",
     "text": [
      "V-Violet\n",
      "I-Indigo\n",
      "B-Blue\n",
      "G-Green\n",
      "Y-Yellow\n",
      "O-Orange\n",
      "R-Red\n"
     ]
    }
   ],
   "source": [
    "#program to display 7 rainbow colors\n",
    "print(\"V-Violet\",\"I-Indigo\",\"B-Blue\",\"G-Green\",\"Y-Yellow\",\"O-Orange\",\"R-Red\",sep=\"\\n\")"
   ]
  },
  {
   "cell_type": "code",
   "execution_count": 3,
   "metadata": {},
   "outputs": [
    {
     "name": "stdout",
     "output_type": "stream",
     "text": [
      "#####\n",
      "#####\n",
      "#####\n",
      "#####\n",
      "#####\n",
      "\n"
     ]
    }
   ],
   "source": [
    "#Program to display ##### in 5 rows\n",
    "print(\"#####\\n\"*5)"
   ]
  },
  {
   "cell_type": "code",
   "execution_count": null,
   "metadata": {},
   "outputs": [],
   "source": []
  }
 ],
 "metadata": {
  "kernelspec": {
   "display_name": "Python 3",
   "language": "python",
   "name": "python3"
  },
  "language_info": {
   "codemirror_mode": {
    "name": "ipython",
    "version": 3
   },
   "file_extension": ".py",
   "mimetype": "text/x-python",
   "name": "python",
   "nbconvert_exporter": "python",
   "pygments_lexer": "ipython3",
   "version": "3.8.5"
  }
 },
 "nbformat": 4,
 "nbformat_minor": 4
}
