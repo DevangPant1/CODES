{
 "cells": [
  {
   "cell_type": "code",
   "execution_count": 1,
   "metadata": {},
   "outputs": [
    {
     "name": "stdout",
     "output_type": "stream",
     "text": [
      "10.0\n",
      "3.141592653589793\n"
     ]
    }
   ],
   "source": [
    "#math library\n",
    "from math import *\n",
    "a=100\n",
    "a=sqrt(a)\n",
    "b=pi\n",
    "print(a)\n",
    "print(b)"
   ]
  },
  {
   "cell_type": "code",
   "execution_count": 2,
   "metadata": {},
   "outputs": [
    {
     "name": "stdout",
     "output_type": "stream",
     "text": [
      "10\n"
     ]
    }
   ],
   "source": [
    "from math import *\n",
    "a=30\n",
    "b=50\n",
    "print(gcd(a,b))"
   ]
  },
  {
   "cell_type": "code",
   "execution_count": 3,
   "metadata": {},
   "outputs": [
    {
     "name": "stdout",
     "output_type": "stream",
     "text": [
      "6.588745014714429e+174\n"
     ]
    }
   ],
   "source": [
    "a=56\n",
    "b=100\n",
    "print(pow(a,b))"
   ]
  },
  {
   "cell_type": "code",
   "execution_count": 6,
   "metadata": {},
   "outputs": [
    {
     "name": "stdout",
     "output_type": "stream",
     "text": [
      "Enter any number=100\n",
      "Enter any number=2\n",
      "10.0\n"
     ]
    }
   ],
   "source": [
    "from math import *\n",
    "a=input(\"Enter any number=\")\n",
    "b=input(\"Enter any number=\")\n",
    "a=int(a)\n",
    "b=int(b)\n",
    "print(pow(a,1/b))"
   ]
  },
  {
   "cell_type": "code",
   "execution_count": 12,
   "metadata": {},
   "outputs": [
    {
     "name": "stdout",
     "output_type": "stream",
     "text": [
      "3\n",
      "4\n"
     ]
    }
   ],
   "source": [
    "from math import*\n",
    "a=floor(pi)\n",
    "b=ceil(pi)\n",
    "print(a,b,sep=\"\\n\")"
   ]
  },
  {
   "cell_type": "code",
   "execution_count": 9,
   "metadata": {},
   "outputs": [
    {
     "name": "stdout",
     "output_type": "stream",
     "text": [
      "24\n"
     ]
    }
   ],
   "source": [
    "a=ceil(pi)\n",
    "print(factorial(a))"
   ]
  },
  {
   "cell_type": "code",
   "execution_count": 10,
   "metadata": {},
   "outputs": [
    {
     "name": "stdout",
     "output_type": "stream",
     "text": [
      "1.2246467991473532e-16\n",
      "-1.0\n",
      "-1.2246467991473532e-16\n"
     ]
    }
   ],
   "source": [
    "a=radians(180)\n",
    "print(sin(a))\n",
    "print(cos(a))\n",
    "print(tan(a))"
   ]
  },
  {
   "cell_type": "code",
   "execution_count": 11,
   "metadata": {},
   "outputs": [
    {
     "name": "stdout",
     "output_type": "stream",
     "text": [
      "90\n"
     ]
    }
   ],
   "source": [
    "a=-90\n",
    "print(abs(a))"
   ]
  },
  {
   "cell_type": "code",
   "execution_count": 15,
   "metadata": {},
   "outputs": [
    {
     "name": "stdout",
     "output_type": "stream",
     "text": [
      "1681.0\n"
     ]
    }
   ],
   "source": [
    "from random import *\n",
    "x=randint(1,50)\n",
    "y=randint(2,5)\n",
    "print(pow(x,y))"
   ]
  },
  {
   "cell_type": "code",
   "execution_count": 1,
   "metadata": {},
   "outputs": [
    {
     "name": "stdout",
     "output_type": "stream",
     "text": [
      "Enter any number=-3\n",
      "Enter any number=-2\n",
      "-2.3333333333333335\n"
     ]
    }
   ],
   "source": [
    "a=input(\"Enter any number=\")\n",
    "b=input(\"Enter any number=\")\n",
    "a=int(a)\n",
    "b=int(b)\n",
    "c=abs(a-b)\n",
    "d=c/a+b\n",
    "print(d)"
   ]
  },
  {
   "cell_type": "code",
   "execution_count": 4,
   "metadata": {},
   "outputs": [
    {
     "name": "stdout",
     "output_type": "stream",
     "text": [
      "Enter any number=7\n",
      "7 factorial is 5040\n",
      "0.7539022543433046\n",
      "0.6569865987187891\n",
      "0.8714479827243188\n"
     ]
    }
   ],
   "source": [
    "from math import *\n",
    "a=input(\"Enter any number=\")\n",
    "a=int(a)\n",
    "b=factorial(a)\n",
    "print(a,\"factorial is\",b)\n",
    "print(cos(a))\n",
    "print(sin(a))\n",
    "print(tan(a))"
   ]
  },
  {
   "cell_type": "code",
   "execution_count": 15,
   "metadata": {},
   "outputs": [
    {
     "name": "stdout",
     "output_type": "stream",
     "text": [
      "4.34\n"
     ]
    }
   ],
   "source": [
    "#Write a program that generates a random decimal number between 1 and 10 with two decimal places of accuracy. Examples are 1.23, 3.45, 9.80, and 5.00.\n",
    "from random import *\n",
    "a=randint(1,10)\n",
    "b=randint(1,99)\n",
    "b=(b/100)\n",
    "c=a+b\n",
    "if c>=10:\n",
    "    print(10.00)\n",
    "else:\n",
    "    print(c)"
   ]
  },
  {
   "cell_type": "code",
   "execution_count": null,
   "metadata": {},
   "outputs": [],
   "source": []
  },
  {
   "cell_type": "code",
   "execution_count": null,
   "metadata": {},
   "outputs": [],
   "source": []
  }
 ],
 "metadata": {
  "kernelspec": {
   "display_name": "Python 3",
   "language": "python",
   "name": "python3"
  },
  "language_info": {
   "codemirror_mode": {
    "name": "ipython",
    "version": 3
   },
   "file_extension": ".py",
   "mimetype": "text/x-python",
   "name": "python",
   "nbconvert_exporter": "python",
   "pygments_lexer": "ipython3",
   "version": "3.8.5"
  }
 },
 "nbformat": 4,
 "nbformat_minor": 4
}
