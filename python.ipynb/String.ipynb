{
 "cells": [
  {
   "cell_type": "code",
   "execution_count": 1,
   "metadata": {},
   "outputs": [
    {
     "name": "stdout",
     "output_type": "stream",
     "text": [
      "Hello World\n"
     ]
    }
   ],
   "source": [
    "#string concatenation\n",
    "a=\"Hello\"\n",
    "b=\" \"\n",
    "c=\"World\"\n",
    "a=a+b+c\n",
    "print(a)"
   ]
  },
  {
   "cell_type": "code",
   "execution_count": 2,
   "metadata": {},
   "outputs": [
    {
     "name": "stdout",
     "output_type": "stream",
     "text": [
      "Hello World\n"
     ]
    }
   ],
   "source": [
    "a=\"Hello\"+\" \"+\"World\"\n",
    "print(a)"
   ]
  },
  {
   "cell_type": "code",
   "execution_count": 3,
   "metadata": {},
   "outputs": [
    {
     "name": "stdout",
     "output_type": "stream",
     "text": [
      "Hello\n",
      "World\n"
     ]
    }
   ],
   "source": [
    "a=\"Hello\\nWorld\"\n",
    "print(a)"
   ]
  },
  {
   "cell_type": "code",
   "execution_count": 4,
   "metadata": {},
   "outputs": [
    {
     "name": "stdout",
     "output_type": "stream",
     "text": [
      "Helloo\b world\n"
     ]
    }
   ],
   "source": [
    "a=\"Helloo\\b world\"\n",
    "print(a)"
   ]
  },
  {
   "cell_type": "code",
   "execution_count": 5,
   "metadata": {},
   "outputs": [
    {
     "name": "stdout",
     "output_type": "stream",
     "text": [
      "e\n",
      "d\n"
     ]
    }
   ],
   "source": [
    "a=\"Hello World\"\n",
    "print(a[1])\n",
    "print(a[-1])"
   ]
  },
  {
   "cell_type": "code",
   "execution_count": 11,
   "metadata": {},
   "outputs": [
    {
     "name": "stdout",
     "output_type": "stream",
     "text": [
      "Hello\n",
      " World\n",
      "Hello World\n",
      "rld\n"
     ]
    }
   ],
   "source": [
    "a=\"Hello World\"\n",
    "print(a[0:5])\n",
    "print(a[5:])\n",
    "print(a[:])\n",
    "print(a[-3:])"
   ]
  },
  {
   "cell_type": "code",
   "execution_count": 14,
   "metadata": {},
   "outputs": [
    {
     "name": "stdout",
     "output_type": "stream",
     "text": [
      "He\n",
      "dlrowolleH\n"
     ]
    }
   ],
   "source": [
    "a=\"Helloworld\"\n",
    "print(a[:2])\n",
    "print(a[::-1])"
   ]
  },
  {
   "cell_type": "code",
   "execution_count": 15,
   "metadata": {},
   "outputs": [
    {
     "name": "stdout",
     "output_type": "stream",
     "text": [
      "D is present\n",
      "Z is not present\n"
     ]
    }
   ],
   "source": [
    "a=\"Hello World\"\n",
    "if \"d\" in a:\n",
    "    print(\"D is present\")\n",
    "if \"z\"not in a:\n",
    "    print(\"Z is not present\")"
   ]
  },
  {
   "cell_type": "code",
   "execution_count": 18,
   "metadata": {},
   "outputs": [
    {
     "name": "stdout",
     "output_type": "stream",
     "text": [
      "0 H\n",
      "1 e\n",
      "2 l\n",
      "3 l\n",
      "4 o\n",
      "5  \n",
      "6 W\n",
      "7 o\n",
      "8 r\n",
      "9 l\n",
      "10 d\n"
     ]
    }
   ],
   "source": [
    "a=\"Hello World\"\n",
    "for i in range(len(a)):\n",
    "    print(i,a[i])"
   ]
  },
  {
   "cell_type": "code",
   "execution_count": 20,
   "metadata": {},
   "outputs": [
    {
     "name": "stdout",
     "output_type": "stream",
     "text": [
      "H\n",
      "e\n",
      "l\n",
      "l\n",
      "o\n",
      " \n",
      "W\n",
      "o\n",
      "r\n",
      "l\n",
      "d\n"
     ]
    }
   ],
   "source": [
    "a=\"Hello World\"\n",
    "for i in a:\n",
    "    print(i)"
   ]
  },
  {
   "cell_type": "code",
   "execution_count": 21,
   "metadata": {},
   "outputs": [
    {
     "name": "stdout",
     "output_type": "stream",
     "text": [
      "HELLO WORLD\n"
     ]
    }
   ],
   "source": [
    "a=\"Hello World\"\n",
    "a=a.upper()\n",
    "print(a)"
   ]
  },
  {
   "cell_type": "code",
   "execution_count": 22,
   "metadata": {},
   "outputs": [
    {
     "name": "stdout",
     "output_type": "stream",
     "text": [
      "hello world\n"
     ]
    }
   ],
   "source": [
    "a=\"Hello World\"\n",
    "a=a.lower()\n",
    "print(a)"
   ]
  },
  {
   "cell_type": "code",
   "execution_count": 23,
   "metadata": {},
   "outputs": [
    {
     "name": "stdout",
     "output_type": "stream",
     "text": [
      "hello World\n"
     ]
    }
   ],
   "source": [
    "a=\"Hello World\"\n",
    "a=a.replace(\"H\",\"h\")\n",
    "print(a)"
   ]
  },
  {
   "cell_type": "code",
   "execution_count": 25,
   "metadata": {},
   "outputs": [
    {
     "name": "stdout",
     "output_type": "stream",
     "text": [
      "3\n",
      "l\n"
     ]
    }
   ],
   "source": [
    "a=\"Hello World\"\n",
    "print(a.count(\"l\"))\n",
    "print(a[2])"
   ]
  },
  {
   "cell_type": "code",
   "execution_count": 9,
   "metadata": {},
   "outputs": [
    {
     "name": "stdout",
     "output_type": "stream",
     "text": [
      "Enter any name-DEVANG\n",
      "Total Characters= 6\n",
      "DEVANG\n",
      "DEVANG\n",
      "DEVANG\n",
      "DEVANG\n",
      "DEVANG\n",
      "DEVANG\n",
      "DEVANG\n",
      "DEVANG\n",
      "DEVANG\n",
      "DEVANG\n",
      "\n",
      "D\n",
      "DEV\n",
      "\n",
      "GNAVED\n",
      "EVAN\n",
      "DEVANG\n"
     ]
    }
   ],
   "source": [
    "#Write a program that asks the user to enter a string. The program should then print the\n",
    "#following:\n",
    "#(a) The total number of characters in the string\n",
    "#(b) The string repeated 10 times\n",
    "#c) The first character of the string (remember that string indices start at 0)\n",
    "#(d) The first three characters of the string\n",
    "#(e) The last three characters of the string\n",
    "#(f) The string backwards\n",
    "#(g) The seventh character of the string if the string is long enough and a message otherwise\n",
    "#(h) The string with its first and last characters removed\n",
    "#(i) The string in all caps\n",
    "#(j) The string with every a replaced with an e\n",
    "\n",
    "\n",
    "a=input(\"Enter any name-\")\n",
    "print(\"Total Characters=\",len(a))\n",
    "print((a+\"\\n\")*10)\n",
    "print(a[0])\n",
    "print(a[0:3])\n",
    "print(a[-1:-3])\n",
    "print(a[::-1])\n",
    "if len(a)>=7:\n",
    "    print(a[6])\n",
    "print(a[1:-1])\n",
    "print(a.upper())\n",
    "if \"a\" in a:\n",
    "    a=a.replace(\"a\",\"e\")\n",
    "    print(a)\n",
    "    "
   ]
  },
  {
   "cell_type": "code",
   "execution_count": 12,
   "metadata": {},
   "outputs": [
    {
     "name": "stdout",
     "output_type": "stream",
     "text": [
      "Enter any string Hello World\n",
      "No. of words= 2\n"
     ]
    }
   ],
   "source": [
    "a=input(\"Enter any string \")\n",
    "if \" \" in a:\n",
    "    b=a.count(\" \")\n",
    "    print(\"No. of words=\",b+1)\n",
    "else:\n",
    "    print(\"No. of words\",1)"
   ]
  },
  {
   "cell_type": "code",
   "execution_count": 17,
   "metadata": {},
   "outputs": [
    {
     "name": "stdout",
     "output_type": "stream",
     "text": [
      "Enter any Formula=a(b+c)\n",
      "ENTERED FORMULA IS CORRECT\n"
     ]
    }
   ],
   "source": [
    "a=input(\"Enter any Formula=\")\n",
    "b=0\n",
    "c=0\n",
    "if \"(\" in a:\n",
    "    b=a.count(\"(\")\n",
    "if \")\" in a:\n",
    "    c=a.count(\")\")\n",
    "if b==c:\n",
    "    print(\"ENTERED FORMULA IS CORRECT\")\n",
    "    \n",
    "else:\n",
    "    print(\"INCORRECT FORMULA\")"
   ]
  },
  {
   "cell_type": "code",
   "execution_count": 23,
   "metadata": {},
   "outputs": [
    {
     "name": "stdout",
     "output_type": "stream",
     "text": [
      "Enter any string=DEVANG\n",
      "There are 2  vowels in your string\n"
     ]
    }
   ],
   "source": [
    "a=input(\"Enter any string=\")\n",
    "i=0\n",
    "a=a.lower()\n",
    "if \"a\" in a:\n",
    "    i=i+1\n",
    "if \"e\" in a:\n",
    "    i=i+1    \n",
    "if \"i\" in a:\n",
    "    i=i+1\n",
    "if \"o\" in a:\n",
    "    i=i+1\n",
    "if \"u\" in a:\n",
    "    i=i+1\n",
    "print(\"There are\",i,\" vowels in your string\")"
   ]
  },
  {
   "cell_type": "code",
   "execution_count": 27,
   "metadata": {},
   "outputs": [
    {
     "name": "stdout",
     "output_type": "stream",
     "text": [
      "Enter any string=Qbert\n",
      "Q*ert!!!\n"
     ]
    }
   ],
   "source": [
    "a=input(\"Enter any string=\")\n",
    "b=a\n",
    "b=b.replace(a[1],\"*\")\n",
    "b=b+\"!!!\"\n",
    "print(b)"
   ]
  },
  {
   "cell_type": "code",
   "execution_count": 29,
   "metadata": {},
   "outputs": [
    {
     "name": "stdout",
     "output_type": "stream",
     "text": [
      "Enter any string=MY,. NAME,. IS,. DEVANG\n",
      "my name is devang\n"
     ]
    }
   ],
   "source": [
    "a=input(\"Enter any string=\")\n",
    "a=a.lower()\n",
    "if \".\" in a:\n",
    "    a=a.replace(\".\",\"\")\n",
    "if \",\" in a:\n",
    "    a=a.replace(\",\",\"\")\n",
    "print(a)"
   ]
  },
  {
   "cell_type": "code",
   "execution_count": 31,
   "metadata": {},
   "outputs": [
    {
     "name": "stdout",
     "output_type": "stream",
     "text": [
      "Enter any word-CIVIC\n",
      "YOUR WORD IS A PALINDROME\n"
     ]
    }
   ],
   "source": [
    "a=input(\"Enter any word-\")\n",
    "b=a[::-1]\n",
    "if a==b:\n",
    "    print(\"YOUR WORD IS A PALINDROME\")\n",
    "else:\n",
    "    print(\"YOUR WORD IS NOT A PALINDROME\")"
   ]
  },
  {
   "cell_type": "code",
   "execution_count": 34,
   "metadata": {},
   "outputs": [
    {
     "name": "stdout",
     "output_type": "stream",
     "text": [
      "Enter any number3\n",
      "  1\n",
      "   2\n",
      "    3\n"
     ]
    }
   ],
   "source": [
    "a=input(\"Enter any number=\")\n",
    "a=int(a)\n",
    "for i in range(a):\n",
    "    print(\" \"*(i+1),i+1)"
   ]
  },
  {
   "cell_type": "code",
   "execution_count": null,
   "metadata": {},
   "outputs": [],
   "source": []
  },
  {
   "cell_type": "code",
   "execution_count": 3,
   "metadata": {},
   "outputs": [
    {
     "name": "stdout",
     "output_type": "stream",
     "text": [
      "Enter any string=DEVANG\\\n",
      "deva\n",
      "ng\\\n"
     ]
    }
   ],
   "source": [
    "a=input(\"Enter any string=\")\n",
    "a=a.lower()\n",
    "b=a.index(\"a\")\n",
    "print(a[0:b]+\"a\")\n",
    "print(a[b+1:])"
   ]
  },
  {
   "cell_type": "code",
   "execution_count": null,
   "metadata": {},
   "outputs": [],
   "source": []
  }
 ],
 "metadata": {
  "kernelspec": {
   "display_name": "Python 3",
   "language": "python",
   "name": "python3"
  },
  "language_info": {
   "codemirror_mode": {
    "name": "ipython",
    "version": 3
   },
   "file_extension": ".py",
   "mimetype": "text/x-python",
   "name": "python",
   "nbconvert_exporter": "python",
   "pygments_lexer": "ipython3",
   "version": "3.8.5"
  }
 },
 "nbformat": 4,
 "nbformat_minor": 4
}
