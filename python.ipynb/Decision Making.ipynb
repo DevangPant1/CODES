{
 "cells": [
  {
   "cell_type": "code",
   "execution_count": 2,
   "metadata": {},
   "outputs": [
    {
     "name": "stdout",
     "output_type": "stream",
     "text": [
      "False\n",
      "False\n",
      "True\n",
      "False\n",
      "True\n",
      "True\n"
     ]
    }
   ],
   "source": [
    "a=50\n",
    "b=30\n",
    "print(a==b,a<=b,a>=b,a<b,a>b,a!=b,sep=\"\\n\")"
   ]
  },
  {
   "cell_type": "code",
   "execution_count": 3,
   "metadata": {},
   "outputs": [
    {
     "name": "stdout",
     "output_type": "stream",
     "text": [
      "a is lesser than b\n"
     ]
    }
   ],
   "source": [
    "a=40\n",
    "b=68\n",
    "if a<b:#to express comments\n",
    "    print(\"a is lesser than b\")\n",
    "    \n",
    "else:\n",
    "    print(\"a is either = to or greater than b\")"
   ]
  },
  {
   "cell_type": "code",
   "execution_count": 4,
   "metadata": {},
   "outputs": [
    {
     "name": "stdout",
     "output_type": "stream",
     "text": [
      "a is greater than b\n"
     ]
    }
   ],
   "source": [
    "a=65\n",
    "b=23\n",
    "if a>b:\n",
    "    print(\"a is greater than b\")\n",
    "elif a==b:\n",
    "    print(\"a is equal to b\")\n",
    "else:\n",
    "    print(\"a is less than b\")"
   ]
  },
  {
   "cell_type": "code",
   "execution_count": 6,
   "metadata": {},
   "outputs": [
    {
     "name": "stdout",
     "output_type": "stream",
     "text": [
      "Enter first number-3\n",
      "Enter second number-56\n",
      "3 is less than 56\n"
     ]
    }
   ],
   "source": [
    "a=input(\"Enter first number-\")\n",
    "b=input(\"Enter second number-\")\n",
    "a=int(a)\n",
    "b=int(b)\n",
    "if a>b:\n",
    "    print(a,\"is greater than\",b)\n",
    "elif a==b:\n",
    "    print(a,\"is equal to\",b)\n",
    "else:\n",
    "    print(a,\"is less than\",b)"
   ]
  },
  {
   "cell_type": "code",
   "execution_count": 1,
   "metadata": {},
   "outputs": [
    {
     "name": "stdout",
     "output_type": "stream",
     "text": [
      "Enter a length you want to convert into inches-254\n",
      "254 centimetres are 100.0 inches\n"
     ]
    }
   ],
   "source": [
    "#Write a program that asks the user to enter a length in centimeters. If the user enters a negative\n",
    "#length, the program should tell the user that the entry is invalid. Otherwise, the program should convert the length to inches and print out the result. There are 2.54 centimeters in an inch.\n",
    "a=input(\"Enter a length you want to convert into inches-\")\n",
    "a=int(a)\n",
    "if a<0:\n",
    "    print(\"Invalid Entry\")\n",
    "else:\n",
    "    c=a/2.54\n",
    "    print(a,\"centimetres are\",c,\"inches\")"
   ]
  },
  {
   "cell_type": "code",
   "execution_count": 5,
   "metadata": {},
   "outputs": [
    {
     "name": "stdout",
     "output_type": "stream",
     "text": [
      "Please enter a temperature in celsius--4\n",
      "-4 C is a below freezing temperature\n"
     ]
    }
   ],
   "source": [
    "#Ask the user to enter a temperature in Celsius. The program should print a message based\n",
    "#on the temperature:\n",
    "#• If the temperature is less than -273.15, print that the temperature is invalid because it is\n",
    "#below absolute zero.\n",
    "#• If it is exactly -273.15, print that the temperature is absolute 0.\n",
    "#• If the temperature is between -273.15 and 0, print that the temperature is below freezing.\n",
    "#• If it is 0, print that the temperature is at the freezing point.\n",
    "#• If it is between 0 and 100, print that the temperature is in the normal range.\n",
    "#• If it is 100, print that the temperature is at the boiling point.\n",
    "#• If it is above 100, print that the temperature is above the boiling point.\n",
    "a=input(\"Please enter a temperature in celsius-\")\n",
    "a=int(a)\n",
    "z=float(a)\n",
    "if a<-273.15:\n",
    "    print(\"Invalid entry\",a,\"is below absolute zero\")\n",
    "elif z==273.15:\n",
    "    print(\"Absolute zero temperature\")\n",
    "elif 0>a>-273.15:\n",
    "    print(a,\"C is a below freezing temperature\")\n",
    "elif a==0:\n",
    "    print(a,\"C is at freezing point\")\n",
    "elif 100>a>0:\n",
    "    print(a,\"C is a normal range\")\n",
    "elif a==100:\n",
    "    print(a,\"C is at boiling point\")\n",
    "elif a>100:\n",
    "    print(a,\"C is above boiling point\")"
   ]
  },
  {
   "cell_type": "code",
   "execution_count": 1,
   "metadata": {},
   "outputs": [
    {
     "name": "stdout",
     "output_type": "stream",
     "text": [
      "Enter your name here-Devang\n",
      "How many credits have you taken-40\n",
      "Devang you are a Sophomore\n"
     ]
    }
   ],
   "source": [
    "#Write a program that asks the user how many credits they have taken. If they have taken 23 or less, print that the student is a freshman. If they have taken between 24 and 53, print that they are a sophomore. The range for juniors is 54 to 83, and for seniors it is 84 and\n",
    "a=input(\"Enter your name here-\")\n",
    "b=input(\"How many credits have you taken-\")\n",
    "b=int(b)\n",
    "if b<23 or b==23:\n",
    "    print(a,\"you are a Freshman\")\n",
    "elif b>=24 and b<=53:\n",
    "    print(a,\"you are a Sophomore\")\n",
    "elif b>=54 and b<=83:\n",
    "    print(a,\"you are a Junior\")\n",
    "elif b==84 or b>84:\n",
    "    print(a,\"you are a Senior\")"
   ]
  },
  {
   "cell_type": "code",
   "execution_count": null,
   "metadata": {},
   "outputs": [],
   "source": []
  },
  {
   "cell_type": "code",
   "execution_count": null,
   "metadata": {},
   "outputs": [],
   "source": []
  }
 ],
 "metadata": {
  "kernelspec": {
   "display_name": "Python 3",
   "language": "python",
   "name": "python3"
  },
  "language_info": {
   "codemirror_mode": {
    "name": "ipython",
    "version": 3
   },
   "file_extension": ".py",
   "mimetype": "text/x-python",
   "name": "python",
   "nbconvert_exporter": "python",
   "pygments_lexer": "ipython3",
   "version": "3.8.5"
  }
 },
 "nbformat": 4,
 "nbformat_minor": 4
}
